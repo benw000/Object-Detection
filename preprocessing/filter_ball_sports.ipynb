{
 "cells": [
  {
   "cell_type": "markdown",
   "metadata": {},
   "source": [
    "Script to filter by certain ball sports"
   ]
  },
  {
   "cell_type": "code",
   "execution_count": null,
   "metadata": {},
   "outputs": [],
   "source": [
    "import os\n",
    "import csv\n",
    "\n",
    "labels_path = 'labels.txt'\n",
    "\n",
    "# Get class numbers of desired sports in a dictionary\n",
    "desired_sports = ['association football', 'tennis', 'golf', 'basketball']\n",
    "#desired_sports_large = ['football', 'tennis', 'table tennis', 'golf', 'volleyball','basketball', 'netball', 'american football', ]\n",
    "\n",
    "with open(labels_path, 'r', encoding='utf-8') as f:\n",
    "    counter = 0\n",
    "    class_dict = {}\n",
    "    for line in f:\n",
    "        for sport in desired_sports:\n",
    "            if line.rstrip() == sport:\n",
    "                class_dict[counter]=sport\n",
    "        counter += 1\n",
    "\n",
    "print(class_dict)"
   ]
  },
  {
   "cell_type": "code",
   "execution_count": null,
   "metadata": {},
   "outputs": [],
   "source": [
    "# Read a training set and export line into new file if sports id matches\n",
    "old_path = 'test_partition.txt'\n",
    "new_path = 'test_partition_filtered.txt'\n",
    "\n",
    "old_file = open(old_path, 'r')\n",
    "new_file = open(new_path, 'w')\n",
    "\n",
    "# Keep track of a count for each sport\n",
    "sport_counts = {}\n",
    "\n",
    "for line in old_file:\n",
    "    # Find the end of the youtube URL, isolate numbers at end\n",
    "    space = line.index(' ')\n",
    "    csv_str = line[space+1:]\n",
    "    # Parse numbers with csv reader, write new line if sports id in list\n",
    "    for row in csv.reader([csv_str], delimiter=','):\n",
    "        num = int(row[0])\n",
    "        if num in class_dict.keys():\n",
    "            new_file.write(line)\n",
    "            # Update counts\n",
    "            count = sport_counts.get(class_dict[num], 0)\n",
    "            sport_counts[class_dict[num]] = count+1\n",
    "\n",
    "old_file.close()\n",
    "new_file.close()\n",
    "\n",
    "print(sport_counts)"
   ]
  },
  {
   "cell_type": "code",
   "execution_count": 1,
   "metadata": {},
   "outputs": [],
   "source": [
    "# Use Pytube to download each video\n",
    "from pytubefix import YouTube\n",
    "from pytubefix.cli import on_progress\n",
    "import numpy as np\n",
    "import time \n",
    "import os"
   ]
  },
  {
   "cell_type": "code",
   "execution_count": null,
   "metadata": {},
   "outputs": [],
   "source": [
    "print(\"ok\")\n",
    "sleep_time = np.random.normal(loc=87, scale=15, size=None)\n",
    "print(sleep_time)\n",
    "\n",
    "time.sleep(sleep_time)\n",
    "print(\"lets go\")"
   ]
  },
  {
   "cell_type": "code",
   "execution_count": null,
   "metadata": {},
   "outputs": [
    {
     "ename": "IndentationError",
     "evalue": "expected an indented block (2677647733.py, line 25)",
     "output_type": "error",
     "traceback": [
      "\u001b[0;36m  File \u001b[0;32m\"/var/folders/r2/3w7vkj3n6z5c55vp_fm676380000gn/T/ipykernel_60226/2677647733.py\"\u001b[0;36m, line \u001b[0;32m25\u001b[0m\n\u001b[0;31m    pass\u001b[0m\n\u001b[0m        ^\u001b[0m\n\u001b[0;31mIndentationError\u001b[0m\u001b[0;31m:\u001b[0m expected an indented block\n"
     ]
    }
   ],
   "source": [
    "output_path = 'videos/'\n",
    "\n",
    "path = 'valid.txt'\n",
    "file = open(path, 'r')\n",
    "\n",
    "count = 0\n",
    "for line in file:\n",
    "    count += 1\n",
    "    # Get URL from each line of valid.txt\n",
    "    space = line.index(' ')\n",
    "    url = line[:space]\n",
    "    try:\n",
    "        # Download video\n",
    "        yt = YouTube(url, on_progress_callback=on_progress)\n",
    "        print(count, \":\", yt.title)\n",
    "        ys = yt.streams.get_highest_resolution()\n",
    "        ys.download(output_path = output_path)\n",
    "        print(\"Downloaded.\")\n",
    "\n",
    "        # Wait ~1.5 mins (normal dist)\n",
    "        sleep_time = np.random.normal(loc=95, scale=15, size=None)\n",
    "        print(f\"Waiting {sleep_time} seconds\")\n",
    "        time.sleep(sleep_time)\n",
    "    except:\n",
    "        pass\n",
    "file.close()"
   ]
  },
  {
   "cell_type": "markdown",
   "metadata": {},
   "source": []
  }
 ],
 "metadata": {
  "kernelspec": {
   "display_name": "base",
   "language": "python",
   "name": "python3"
  },
  "language_info": {
   "codemirror_mode": {
    "name": "ipython",
    "version": 3
   },
   "file_extension": ".py",
   "mimetype": "text/x-python",
   "name": "python",
   "nbconvert_exporter": "python",
   "pygments_lexer": "ipython3",
   "version": "3.9.7"
  }
 },
 "nbformat": 4,
 "nbformat_minor": 2
}
