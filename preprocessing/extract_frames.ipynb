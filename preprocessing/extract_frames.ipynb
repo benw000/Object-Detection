{
 "cells": [
  {
   "cell_type": "markdown",
   "metadata": {},
   "source": [
    "Extract Frames script"
   ]
  },
  {
   "cell_type": "code",
   "execution_count": 2,
   "metadata": {},
   "outputs": [],
   "source": [
    "import os\n",
    "import subprocess"
   ]
  },
  {
   "cell_type": "code",
   "execution_count": 4,
   "metadata": {},
   "outputs": [],
   "source": [
    "def extract_frames(src_vid_dir: str, dest_frames_dir: str, frames_per_vid: int = 200):\n",
    "    # Create the output folder if it doesn't exist\n",
    "    os.makedirs(src_vid_dir, exist_ok=True)\n",
    "\n",
    "    # Get video list\n",
    "    vid_list = os.listdir(src_vid_dir)\n",
    "    num_vids = len(vid_list)\n",
    "\n",
    "    # Iterate over videos\n",
    "    count = 1\n",
    "    for vid_name in vid_list:\n",
    "        print(f\"{vid_name} ({count} of {num_vids})\")\n",
    "\n",
    "        # Check if the file is a video (you can extend this check based on formats)\n",
    "        vid_path = os.path.join(src_vid_dir, vid_name)\n",
    "        if os.path.isfile(vid_path) and vid_name.lower().endswith(('.mp4', '.mkv', '.avi', '.mov', '.flv', '.wmv')):\n",
    "            # Extract file name without extension\n",
    "            name, _ = os.path.splitext(vid_name)\n",
    "\n",
    "            # Create a subfolder for frames of this video\n",
    "            video_output_folder = os.path.join(dest_frames_dir, name)\n",
    "            os.makedirs(video_output_folder, exist_ok=True)\n",
    "\n",
    "            # Get the video duration using ffprobe\n",
    "            try:\n",
    "                result = subprocess.run(\n",
    "                    [\"ffprobe\", \"-v\", \"error\", \"-show_entries\", \"format=duration\", \"-of\", \"csv=p=0\", vid_path],\n",
    "                    capture_output=True, text=True, check=True\n",
    "                )\n",
    "                duration = float(result.stdout.strip())\n",
    "            except subprocess.CalledProcessError as e:\n",
    "                print(f\"Error retrieving duration for {vid_name}: {e}\")\n",
    "                continue\n",
    "\n",
    "            # Calculate the interval between frames (in seconds)\n",
    "            frame_interval = duration / frames_per_vid\n",
    "\n",
    "            # Build the ffmpeg command\n",
    "            command = [\n",
    "                \"ffmpeg\",\n",
    "                \"-i\", vid_path,\n",
    "                \"-vf\", f\"fps=1/{frame_interval}\",\n",
    "                \"-vsync\", \"vfr\",\n",
    "                os.path.join(video_output_folder, \"frame_%04d.png\")\n",
    "            ]\n",
    "\n",
    "            # Run the ffmpeg command\n",
    "            try:\n",
    "                print(f\"Extracting frames from {vid_name}...\")\n",
    "                subprocess.run(command, check=True)\n",
    "                print(f\"Frames saved to {video_output_folder}\")\n",
    "            except subprocess.CalledProcessError as e:\n",
    "                print(f\"Error processing {vid_name}: {e}\")\n",
    "                \n",
    "        count += 1"
   ]
  },
  {
   "cell_type": "code",
   "execution_count": null,
   "metadata": {},
   "outputs": [],
   "source": [
    "input_folder = \"train_videos\"\n",
    "output_folder = \"train_frames\"\n",
    "frames_per_vid = 200\n",
    "\n"
   ]
  }
 ],
 "metadata": {
  "kernelspec": {
   "display_name": "base",
   "language": "python",
   "name": "python3"
  },
  "language_info": {
   "codemirror_mode": {
    "name": "ipython",
    "version": 3
   },
   "file_extension": ".py",
   "mimetype": "text/x-python",
   "name": "python",
   "nbconvert_exporter": "python",
   "pygments_lexer": "ipython3",
   "version": "3.9.7"
  }
 },
 "nbformat": 4,
 "nbformat_minor": 2
}
